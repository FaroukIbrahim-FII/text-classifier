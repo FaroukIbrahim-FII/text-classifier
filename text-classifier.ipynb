{
 "cells": [
  {
   "cell_type": "markdown",
   "id": "d2df20b2-cae5-4b9d-a912-9c549af12c50",
   "metadata": {},
   "source": [
    "# Machine Learning Intro"
   ]
  },
  {
   "cell_type": "code",
   "execution_count": 1,
   "id": "21ff7b2b-9058-46a5-b64b-837fc4de8aaf",
   "metadata": {},
   "outputs": [],
   "source": [
    "import pandas as pd"
   ]
  },
  {
   "cell_type": "code",
   "execution_count": 2,
   "id": "e4ebef5e-4c28-4ba6-8376-bbffd32ed481",
   "metadata": {},
   "outputs": [],
   "source": [
    "filepath_dict = {'yelp': 'yelp_labelled.txt',\n",
    "                'amazon': 'amazon_cells_labelled.txt',\n",
    "                'imdb': 'imdb_labelled.txt'}"
   ]
  },
  {
   "cell_type": "code",
   "execution_count": 3,
   "id": "010e2b22-49d4-43d6-8bf1-a81df839d1a6",
   "metadata": {},
   "outputs": [
    {
     "data": {
      "text/plain": [
       "'yelp_labelled.txt'"
      ]
     },
     "execution_count": 3,
     "metadata": {},
     "output_type": "execute_result"
    }
   ],
   "source": [
    "filepath_dict['yelp']"
   ]
  },
  {
   "cell_type": "code",
   "execution_count": 4,
   "id": "94d575e7-e856-47cc-a28b-aee1576d5324",
   "metadata": {},
   "outputs": [],
   "source": [
    "df_list = []\n",
    "\n",
    "for source, filepath in filepath_dict.items():\n",
    "    df = pd.read_csv(filepath, names=['sentence', 'label'], sep='\\t')\n",
    "    df['source'] = source\n",
    "    df_list.append(df)"
   ]
  },
  {
   "cell_type": "code",
   "execution_count": 5,
   "id": "4247bd9a-d9de-4ba3-846c-79e180f63a43",
   "metadata": {},
   "outputs": [
    {
     "data": {
      "text/plain": [
       "[                                              sentence  label source\n",
       " 0                             Wow... Loved this place.      1   yelp\n",
       " 1                                   Crust is not good.      0   yelp\n",
       " 2            Not tasty and the texture was just nasty.      0   yelp\n",
       " 3    Stopped by during the late May bank holiday of...      1   yelp\n",
       " 4    The selection on the menu was great and so wer...      1   yelp\n",
       " ..                                                 ...    ...    ...\n",
       " 995  I think food should have flavor and texture an...      0   yelp\n",
       " 996                           Appetite instantly gone.      0   yelp\n",
       " 997  Overall I was not impressed and would not go b...      0   yelp\n",
       " 998  The whole experience was underwhelming, and I ...      0   yelp\n",
       " 999  Then, as if I hadn't wasted enough of my life ...      0   yelp\n",
       " \n",
       " [1000 rows x 3 columns],\n",
       "                                               sentence  label  source\n",
       " 0    So there is no way for me to plug it in here i...      0  amazon\n",
       " 1                          Good case, Excellent value.      1  amazon\n",
       " 2                               Great for the jawbone.      1  amazon\n",
       " 3    Tied to charger for conversations lasting more...      0  amazon\n",
       " 4                                    The mic is great.      1  amazon\n",
       " ..                                                 ...    ...     ...\n",
       " 995  The screen does get smudged easily because it ...      0  amazon\n",
       " 996  What a piece of junk.. I lose more calls on th...      0  amazon\n",
       " 997                       Item Does Not Match Picture.      0  amazon\n",
       " 998  The only thing that disappoint me is the infra...      0  amazon\n",
       " 999  You can not answer calls with the unit, never ...      0  amazon\n",
       " \n",
       " [1000 rows x 3 columns],\n",
       "                                               sentence  label source\n",
       " 0    A very, very, very slow-moving, aimless movie ...      0   imdb\n",
       " 1    Not sure who was more lost - the flat characte...      0   imdb\n",
       " 2    Attempting artiness with black & white and cle...      0   imdb\n",
       " 3         Very little music or anything to speak of.        0   imdb\n",
       " 4    The best scene in the movie was when Gerardo i...      1   imdb\n",
       " ..                                                 ...    ...    ...\n",
       " 743  I just got bored watching Jessice Lange take h...      0   imdb\n",
       " 744  Unfortunately, any virtue in this film's produ...      0   imdb\n",
       " 745                   In a word, it is embarrassing.        0   imdb\n",
       " 746                               Exceptionally bad!        0   imdb\n",
       " 747  All in all its an insult to one's intelligence...      0   imdb\n",
       " \n",
       " [748 rows x 3 columns]]"
      ]
     },
     "execution_count": 5,
     "metadata": {},
     "output_type": "execute_result"
    }
   ],
   "source": [
    "df_list"
   ]
  },
  {
   "cell_type": "code",
   "execution_count": 6,
   "id": "4d255942-1d14-434e-8ee8-2a8223ed5b55",
   "metadata": {},
   "outputs": [],
   "source": [
    "df = pd.concat(df_list)"
   ]
  },
  {
   "cell_type": "code",
   "execution_count": 7,
   "id": "abddc0b7-d88f-4009-aa74-3d73bc87d89d",
   "metadata": {},
   "outputs": [
    {
     "data": {
      "text/html": [
       "<div>\n",
       "<style scoped>\n",
       "    .dataframe tbody tr th:only-of-type {\n",
       "        vertical-align: middle;\n",
       "    }\n",
       "\n",
       "    .dataframe tbody tr th {\n",
       "        vertical-align: top;\n",
       "    }\n",
       "\n",
       "    .dataframe thead th {\n",
       "        text-align: right;\n",
       "    }\n",
       "</style>\n",
       "<table border=\"1\" class=\"dataframe\">\n",
       "  <thead>\n",
       "    <tr style=\"text-align: right;\">\n",
       "      <th></th>\n",
       "      <th>sentence</th>\n",
       "      <th>label</th>\n",
       "      <th>source</th>\n",
       "    </tr>\n",
       "  </thead>\n",
       "  <tbody>\n",
       "    <tr>\n",
       "      <th>0</th>\n",
       "      <td>Wow... Loved this place.</td>\n",
       "      <td>1</td>\n",
       "      <td>yelp</td>\n",
       "    </tr>\n",
       "    <tr>\n",
       "      <th>1</th>\n",
       "      <td>Crust is not good.</td>\n",
       "      <td>0</td>\n",
       "      <td>yelp</td>\n",
       "    </tr>\n",
       "    <tr>\n",
       "      <th>2</th>\n",
       "      <td>Not tasty and the texture was just nasty.</td>\n",
       "      <td>0</td>\n",
       "      <td>yelp</td>\n",
       "    </tr>\n",
       "    <tr>\n",
       "      <th>3</th>\n",
       "      <td>Stopped by during the late May bank holiday of...</td>\n",
       "      <td>1</td>\n",
       "      <td>yelp</td>\n",
       "    </tr>\n",
       "    <tr>\n",
       "      <th>4</th>\n",
       "      <td>The selection on the menu was great and so wer...</td>\n",
       "      <td>1</td>\n",
       "      <td>yelp</td>\n",
       "    </tr>\n",
       "    <tr>\n",
       "      <th>...</th>\n",
       "      <td>...</td>\n",
       "      <td>...</td>\n",
       "      <td>...</td>\n",
       "    </tr>\n",
       "    <tr>\n",
       "      <th>743</th>\n",
       "      <td>I just got bored watching Jessice Lange take h...</td>\n",
       "      <td>0</td>\n",
       "      <td>imdb</td>\n",
       "    </tr>\n",
       "    <tr>\n",
       "      <th>744</th>\n",
       "      <td>Unfortunately, any virtue in this film's produ...</td>\n",
       "      <td>0</td>\n",
       "      <td>imdb</td>\n",
       "    </tr>\n",
       "    <tr>\n",
       "      <th>745</th>\n",
       "      <td>In a word, it is embarrassing.</td>\n",
       "      <td>0</td>\n",
       "      <td>imdb</td>\n",
       "    </tr>\n",
       "    <tr>\n",
       "      <th>746</th>\n",
       "      <td>Exceptionally bad!</td>\n",
       "      <td>0</td>\n",
       "      <td>imdb</td>\n",
       "    </tr>\n",
       "    <tr>\n",
       "      <th>747</th>\n",
       "      <td>All in all its an insult to one's intelligence...</td>\n",
       "      <td>0</td>\n",
       "      <td>imdb</td>\n",
       "    </tr>\n",
       "  </tbody>\n",
       "</table>\n",
       "<p>2748 rows × 3 columns</p>\n",
       "</div>"
      ],
      "text/plain": [
       "                                              sentence  label source\n",
       "0                             Wow... Loved this place.      1   yelp\n",
       "1                                   Crust is not good.      0   yelp\n",
       "2            Not tasty and the texture was just nasty.      0   yelp\n",
       "3    Stopped by during the late May bank holiday of...      1   yelp\n",
       "4    The selection on the menu was great and so wer...      1   yelp\n",
       "..                                                 ...    ...    ...\n",
       "743  I just got bored watching Jessice Lange take h...      0   imdb\n",
       "744  Unfortunately, any virtue in this film's produ...      0   imdb\n",
       "745                   In a word, it is embarrassing.        0   imdb\n",
       "746                               Exceptionally bad!        0   imdb\n",
       "747  All in all its an insult to one's intelligence...      0   imdb\n",
       "\n",
       "[2748 rows x 3 columns]"
      ]
     },
     "execution_count": 7,
     "metadata": {},
     "output_type": "execute_result"
    }
   ],
   "source": [
    "df"
   ]
  },
  {
   "cell_type": "markdown",
   "id": "6e3dab1e-4844-44a8-8add-372cd3fd6f78",
   "metadata": {},
   "source": [
    "## yelp Data"
   ]
  },
  {
   "cell_type": "code",
   "execution_count": 8,
   "id": "a1214922-1fe8-49fe-8a34-8cbfe7e35f80",
   "metadata": {},
   "outputs": [],
   "source": [
    "from sklearn.model_selection import train_test_split"
   ]
  },
  {
   "cell_type": "code",
   "execution_count": 9,
   "id": "36c3dbe7-6a46-4282-9255-53efc839aedf",
   "metadata": {},
   "outputs": [],
   "source": [
    "df_yelp = df[ df['source']=='yelp']"
   ]
  },
  {
   "cell_type": "code",
   "execution_count": 10,
   "id": "7481261a-e145-4b17-89bc-80ac1cde6b73",
   "metadata": {},
   "outputs": [
    {
     "data": {
      "text/html": [
       "<div>\n",
       "<style scoped>\n",
       "    .dataframe tbody tr th:only-of-type {\n",
       "        vertical-align: middle;\n",
       "    }\n",
       "\n",
       "    .dataframe tbody tr th {\n",
       "        vertical-align: top;\n",
       "    }\n",
       "\n",
       "    .dataframe thead th {\n",
       "        text-align: right;\n",
       "    }\n",
       "</style>\n",
       "<table border=\"1\" class=\"dataframe\">\n",
       "  <thead>\n",
       "    <tr style=\"text-align: right;\">\n",
       "      <th></th>\n",
       "      <th>sentence</th>\n",
       "      <th>label</th>\n",
       "      <th>source</th>\n",
       "    </tr>\n",
       "  </thead>\n",
       "  <tbody>\n",
       "    <tr>\n",
       "      <th>0</th>\n",
       "      <td>Wow... Loved this place.</td>\n",
       "      <td>1</td>\n",
       "      <td>yelp</td>\n",
       "    </tr>\n",
       "    <tr>\n",
       "      <th>1</th>\n",
       "      <td>Crust is not good.</td>\n",
       "      <td>0</td>\n",
       "      <td>yelp</td>\n",
       "    </tr>\n",
       "    <tr>\n",
       "      <th>2</th>\n",
       "      <td>Not tasty and the texture was just nasty.</td>\n",
       "      <td>0</td>\n",
       "      <td>yelp</td>\n",
       "    </tr>\n",
       "    <tr>\n",
       "      <th>3</th>\n",
       "      <td>Stopped by during the late May bank holiday of...</td>\n",
       "      <td>1</td>\n",
       "      <td>yelp</td>\n",
       "    </tr>\n",
       "    <tr>\n",
       "      <th>4</th>\n",
       "      <td>The selection on the menu was great and so wer...</td>\n",
       "      <td>1</td>\n",
       "      <td>yelp</td>\n",
       "    </tr>\n",
       "  </tbody>\n",
       "</table>\n",
       "</div>"
      ],
      "text/plain": [
       "                                            sentence  label source\n",
       "0                           Wow... Loved this place.      1   yelp\n",
       "1                                 Crust is not good.      0   yelp\n",
       "2          Not tasty and the texture was just nasty.      0   yelp\n",
       "3  Stopped by during the late May bank holiday of...      1   yelp\n",
       "4  The selection on the menu was great and so wer...      1   yelp"
      ]
     },
     "execution_count": 10,
     "metadata": {},
     "output_type": "execute_result"
    }
   ],
   "source": [
    "df_yelp.head(5)"
   ]
  },
  {
   "cell_type": "code",
   "execution_count": 11,
   "id": "907fc1e2-46bf-4fdd-857b-3f9e2ef01c2d",
   "metadata": {},
   "outputs": [],
   "source": [
    "X = df_yelp['sentence'].values"
   ]
  },
  {
   "cell_type": "code",
   "execution_count": 12,
   "id": "69dfd235-b819-4695-a841-ecbb9af48da2",
   "metadata": {},
   "outputs": [],
   "source": [
    "Y = df_yelp['label'].values"
   ]
  },
  {
   "cell_type": "code",
   "execution_count": 13,
   "id": "ffb07f18-20d4-41ce-a9e3-d03397ac5a34",
   "metadata": {},
   "outputs": [
    {
     "data": {
      "text/plain": [
       "array(['Wow... Loved this place.', 'Crust is not good.',\n",
       "       'Not tasty and the texture was just nasty.',\n",
       "       'Stopped by during the late May bank holiday off Rick Steve recommendation and loved it.',\n",
       "       'The selection on the menu was great and so were the prices.'],\n",
       "      dtype=object)"
      ]
     },
     "execution_count": 13,
     "metadata": {},
     "output_type": "execute_result"
    }
   ],
   "source": [
    "X[:5]"
   ]
  },
  {
   "cell_type": "code",
   "execution_count": 14,
   "id": "d082ffca-df9a-42d6-a9e6-c7bd0c437277",
   "metadata": {},
   "outputs": [
    {
     "data": {
      "text/plain": [
       "array([1, 0, 0, 1, 1])"
      ]
     },
     "execution_count": 14,
     "metadata": {},
     "output_type": "execute_result"
    }
   ],
   "source": [
    "Y[:5]"
   ]
  },
  {
   "cell_type": "code",
   "execution_count": 15,
   "id": "9e7426cb-182b-4454-bc2e-bccd26489673",
   "metadata": {},
   "outputs": [],
   "source": [
    "x_train, x_test, y_train, y_test = train_test_split(X, Y, test_size=0.25, random_state=100)"
   ]
  },
  {
   "cell_type": "code",
   "execution_count": 16,
   "id": "9ddad797-4f9f-4cc2-a613-b4915059be97",
   "metadata": {},
   "outputs": [
    {
     "data": {
      "text/plain": [
       "array(['We will not be coming back.',\n",
       "       'We waited for forty five minutes in vain.',\n",
       "       \"I could barely stomach the meal, but didn't complain because it was a business lunch.\",\n",
       "       \"I'd rather eat airline food, seriously.\",\n",
       "       \"Needless to say, I won't be going back anytime soon.\",\n",
       "       'For that price I can think of a few place I would have much rather gone.',\n",
       "       'To my disbelief, each dish qualified as the worst version of these foods I have ever tasted.',\n",
       "       \"I promise they won't disappoint.\",\n",
       "       'The decor is nice, and the piano music soundtrack is pleasant.',\n",
       "       'Will go back next trip out.'], dtype=object)"
      ]
     },
     "execution_count": 16,
     "metadata": {},
     "output_type": "execute_result"
    }
   ],
   "source": [
    "x_train[:10]"
   ]
  },
  {
   "cell_type": "markdown",
   "id": "938877df-0486-4b16-8188-7d3a9ae20422",
   "metadata": {},
   "source": [
    "### Shape the data in an acceptable shape by Regression Model"
   ]
  },
  {
   "cell_type": "code",
   "execution_count": 17,
   "id": "53031cf2-8bad-4b62-a9ee-bdee0e64b9eb",
   "metadata": {},
   "outputs": [],
   "source": [
    "from sklearn.feature_extraction.text import CountVectorizer"
   ]
  },
  {
   "cell_type": "code",
   "execution_count": 18,
   "id": "405da8c3-b815-4430-8eb4-2fb4f2bb4036",
   "metadata": {},
   "outputs": [],
   "source": [
    "vectorizer = CountVectorizer()"
   ]
  },
  {
   "cell_type": "code",
   "execution_count": 19,
   "id": "8e5f3bfc-84c4-4a7e-b7dd-bc1571fbb101",
   "metadata": {},
   "outputs": [
    {
     "data": {
      "text/plain": [
       "CountVectorizer()"
      ]
     },
     "execution_count": 19,
     "metadata": {},
     "output_type": "execute_result"
    }
   ],
   "source": [
    "vectorizer.fit(x_train)"
   ]
  },
  {
   "cell_type": "code",
   "execution_count": 20,
   "id": "4f668deb-f4f5-4e80-852c-d7e0a0909ff1",
   "metadata": {},
   "outputs": [],
   "source": [
    "transformed_x_train = vectorizer.transform(x_train)"
   ]
  },
  {
   "cell_type": "code",
   "execution_count": 21,
   "id": "00e5b5ca-2b42-4ec4-9b0e-81cb2e7bd3f0",
   "metadata": {},
   "outputs": [],
   "source": [
    "transformed_x_test = vectorizer.transform(x_test)"
   ]
  },
  {
   "cell_type": "code",
   "execution_count": 22,
   "id": "79101f9f-85fd-4bb5-a60b-bc90f5311e6e",
   "metadata": {},
   "outputs": [
    {
     "data": {
      "text/plain": [
       "<750x1724 sparse matrix of type '<class 'numpy.int64'>'\n",
       "\twith 7422 stored elements in Compressed Sparse Row format>"
      ]
     },
     "execution_count": 22,
     "metadata": {},
     "output_type": "execute_result"
    }
   ],
   "source": [
    "transformed_x_train"
   ]
  },
  {
   "cell_type": "markdown",
   "id": "4ea057bc-90fb-47c4-bfbe-fbc05a00dcb4",
   "metadata": {},
   "source": [
    "### Train/classify the data using Logistic Regression"
   ]
  },
  {
   "cell_type": "code",
   "execution_count": 23,
   "id": "21bd1229-f3e2-4d32-a5c3-42c8c42dddb2",
   "metadata": {},
   "outputs": [],
   "source": [
    "from sklearn.linear_model import LogisticRegression"
   ]
  },
  {
   "cell_type": "code",
   "execution_count": 24,
   "id": "863e7f56-ddf8-42bd-96f9-33fffbe1a779",
   "metadata": {},
   "outputs": [],
   "source": [
    "# our model\n",
    "classifier = LogisticRegression()"
   ]
  },
  {
   "cell_type": "code",
   "execution_count": 25,
   "id": "fc9912a4-f90a-4da4-95ae-443abaa3979b",
   "metadata": {},
   "outputs": [
    {
     "data": {
      "text/plain": [
       "LogisticRegression()"
      ]
     },
     "execution_count": 25,
     "metadata": {},
     "output_type": "execute_result"
    }
   ],
   "source": [
    "classifier.fit(transformed_x_train, y_train)"
   ]
  },
  {
   "cell_type": "code",
   "execution_count": 26,
   "id": "e98e9d72-85af-4fb5-a446-0e362f7c78a1",
   "metadata": {},
   "outputs": [],
   "source": [
    "score = classifier.score(transformed_x_test, y_test)"
   ]
  },
  {
   "cell_type": "code",
   "execution_count": 27,
   "id": "6a8e7d8a-e177-4866-826e-663025ed48ca",
   "metadata": {},
   "outputs": [
    {
     "data": {
      "text/plain": [
       "0.808"
      ]
     },
     "execution_count": 27,
     "metadata": {},
     "output_type": "execute_result"
    }
   ],
   "source": [
    "score"
   ]
  },
  {
   "cell_type": "markdown",
   "id": "50d475dc-b1e5-4687-9aae-bb56be498428",
   "metadata": {},
   "source": [
    "## Amazon data"
   ]
  },
  {
   "cell_type": "code",
   "execution_count": 28,
   "id": "bee939eb-6a55-40e5-9b8f-661ce58a52ab",
   "metadata": {},
   "outputs": [],
   "source": [
    "df_amazon = df[ df['source']=='amazon']"
   ]
  },
  {
   "cell_type": "code",
   "execution_count": 29,
   "id": "150f5a09-b2f8-4e3e-91db-b1f8e57b1e66",
   "metadata": {},
   "outputs": [
    {
     "data": {
      "text/html": [
       "<div>\n",
       "<style scoped>\n",
       "    .dataframe tbody tr th:only-of-type {\n",
       "        vertical-align: middle;\n",
       "    }\n",
       "\n",
       "    .dataframe tbody tr th {\n",
       "        vertical-align: top;\n",
       "    }\n",
       "\n",
       "    .dataframe thead th {\n",
       "        text-align: right;\n",
       "    }\n",
       "</style>\n",
       "<table border=\"1\" class=\"dataframe\">\n",
       "  <thead>\n",
       "    <tr style=\"text-align: right;\">\n",
       "      <th></th>\n",
       "      <th>sentence</th>\n",
       "      <th>label</th>\n",
       "      <th>source</th>\n",
       "    </tr>\n",
       "  </thead>\n",
       "  <tbody>\n",
       "    <tr>\n",
       "      <th>0</th>\n",
       "      <td>So there is no way for me to plug it in here i...</td>\n",
       "      <td>0</td>\n",
       "      <td>amazon</td>\n",
       "    </tr>\n",
       "    <tr>\n",
       "      <th>1</th>\n",
       "      <td>Good case, Excellent value.</td>\n",
       "      <td>1</td>\n",
       "      <td>amazon</td>\n",
       "    </tr>\n",
       "    <tr>\n",
       "      <th>2</th>\n",
       "      <td>Great for the jawbone.</td>\n",
       "      <td>1</td>\n",
       "      <td>amazon</td>\n",
       "    </tr>\n",
       "    <tr>\n",
       "      <th>3</th>\n",
       "      <td>Tied to charger for conversations lasting more...</td>\n",
       "      <td>0</td>\n",
       "      <td>amazon</td>\n",
       "    </tr>\n",
       "    <tr>\n",
       "      <th>4</th>\n",
       "      <td>The mic is great.</td>\n",
       "      <td>1</td>\n",
       "      <td>amazon</td>\n",
       "    </tr>\n",
       "    <tr>\n",
       "      <th>...</th>\n",
       "      <td>...</td>\n",
       "      <td>...</td>\n",
       "      <td>...</td>\n",
       "    </tr>\n",
       "    <tr>\n",
       "      <th>995</th>\n",
       "      <td>The screen does get smudged easily because it ...</td>\n",
       "      <td>0</td>\n",
       "      <td>amazon</td>\n",
       "    </tr>\n",
       "    <tr>\n",
       "      <th>996</th>\n",
       "      <td>What a piece of junk.. I lose more calls on th...</td>\n",
       "      <td>0</td>\n",
       "      <td>amazon</td>\n",
       "    </tr>\n",
       "    <tr>\n",
       "      <th>997</th>\n",
       "      <td>Item Does Not Match Picture.</td>\n",
       "      <td>0</td>\n",
       "      <td>amazon</td>\n",
       "    </tr>\n",
       "    <tr>\n",
       "      <th>998</th>\n",
       "      <td>The only thing that disappoint me is the infra...</td>\n",
       "      <td>0</td>\n",
       "      <td>amazon</td>\n",
       "    </tr>\n",
       "    <tr>\n",
       "      <th>999</th>\n",
       "      <td>You can not answer calls with the unit, never ...</td>\n",
       "      <td>0</td>\n",
       "      <td>amazon</td>\n",
       "    </tr>\n",
       "  </tbody>\n",
       "</table>\n",
       "<p>1000 rows × 3 columns</p>\n",
       "</div>"
      ],
      "text/plain": [
       "                                              sentence  label  source\n",
       "0    So there is no way for me to plug it in here i...      0  amazon\n",
       "1                          Good case, Excellent value.      1  amazon\n",
       "2                               Great for the jawbone.      1  amazon\n",
       "3    Tied to charger for conversations lasting more...      0  amazon\n",
       "4                                    The mic is great.      1  amazon\n",
       "..                                                 ...    ...     ...\n",
       "995  The screen does get smudged easily because it ...      0  amazon\n",
       "996  What a piece of junk.. I lose more calls on th...      0  amazon\n",
       "997                       Item Does Not Match Picture.      0  amazon\n",
       "998  The only thing that disappoint me is the infra...      0  amazon\n",
       "999  You can not answer calls with the unit, never ...      0  amazon\n",
       "\n",
       "[1000 rows x 3 columns]"
      ]
     },
     "execution_count": 29,
     "metadata": {},
     "output_type": "execute_result"
    }
   ],
   "source": [
    "df_amazon"
   ]
  },
  {
   "cell_type": "code",
   "execution_count": 30,
   "id": "214c2d30-939c-47ce-8541-f3deec5be0d1",
   "metadata": {},
   "outputs": [
    {
     "data": {
      "text/html": [
       "<div>\n",
       "<style scoped>\n",
       "    .dataframe tbody tr th:only-of-type {\n",
       "        vertical-align: middle;\n",
       "    }\n",
       "\n",
       "    .dataframe tbody tr th {\n",
       "        vertical-align: top;\n",
       "    }\n",
       "\n",
       "    .dataframe thead th {\n",
       "        text-align: right;\n",
       "    }\n",
       "</style>\n",
       "<table border=\"1\" class=\"dataframe\">\n",
       "  <thead>\n",
       "    <tr style=\"text-align: right;\">\n",
       "      <th></th>\n",
       "      <th>sentence</th>\n",
       "      <th>label</th>\n",
       "      <th>source</th>\n",
       "    </tr>\n",
       "  </thead>\n",
       "  <tbody>\n",
       "    <tr>\n",
       "      <th>0</th>\n",
       "      <td>So there is no way for me to plug it in here i...</td>\n",
       "      <td>0</td>\n",
       "      <td>amazon</td>\n",
       "    </tr>\n",
       "    <tr>\n",
       "      <th>1</th>\n",
       "      <td>Good case, Excellent value.</td>\n",
       "      <td>1</td>\n",
       "      <td>amazon</td>\n",
       "    </tr>\n",
       "    <tr>\n",
       "      <th>2</th>\n",
       "      <td>Great for the jawbone.</td>\n",
       "      <td>1</td>\n",
       "      <td>amazon</td>\n",
       "    </tr>\n",
       "    <tr>\n",
       "      <th>3</th>\n",
       "      <td>Tied to charger for conversations lasting more...</td>\n",
       "      <td>0</td>\n",
       "      <td>amazon</td>\n",
       "    </tr>\n",
       "    <tr>\n",
       "      <th>4</th>\n",
       "      <td>The mic is great.</td>\n",
       "      <td>1</td>\n",
       "      <td>amazon</td>\n",
       "    </tr>\n",
       "  </tbody>\n",
       "</table>\n",
       "</div>"
      ],
      "text/plain": [
       "                                            sentence  label  source\n",
       "0  So there is no way for me to plug it in here i...      0  amazon\n",
       "1                        Good case, Excellent value.      1  amazon\n",
       "2                             Great for the jawbone.      1  amazon\n",
       "3  Tied to charger for conversations lasting more...      0  amazon\n",
       "4                                  The mic is great.      1  amazon"
      ]
     },
     "execution_count": 30,
     "metadata": {},
     "output_type": "execute_result"
    }
   ],
   "source": [
    "df_amazon.head(5)"
   ]
  },
  {
   "cell_type": "code",
   "execution_count": 31,
   "id": "0aeeb3a5-eecf-4bc5-a387-50775c1db237",
   "metadata": {},
   "outputs": [],
   "source": [
    "X_amazon = df_amazon['sentence'].values"
   ]
  },
  {
   "cell_type": "code",
   "execution_count": 32,
   "id": "bef74db1-bd93-4073-a8b8-7bd08796ac5d",
   "metadata": {},
   "outputs": [],
   "source": [
    "Y_amazon = df_amazon['label'].values"
   ]
  },
  {
   "cell_type": "code",
   "execution_count": 33,
   "id": "677c5fea-7596-4c9c-b12b-479fbf0bbc66",
   "metadata": {},
   "outputs": [
    {
     "data": {
      "text/plain": [
       "array(['So there is no way for me to plug it in here in the US unless I go by a converter.',\n",
       "       'Good case, Excellent value.', 'Great for the jawbone.',\n",
       "       'Tied to charger for conversations lasting more than 45 minutes.MAJOR PROBLEMS!!',\n",
       "       'The mic is great.'], dtype=object)"
      ]
     },
     "execution_count": 33,
     "metadata": {},
     "output_type": "execute_result"
    }
   ],
   "source": [
    "X_amazon[:5]"
   ]
  },
  {
   "cell_type": "code",
   "execution_count": 34,
   "id": "13282218-bfc7-4a65-b5e7-efd15d93bbfd",
   "metadata": {},
   "outputs": [
    {
     "data": {
      "text/plain": [
       "array([0, 1, 1, 0, 1])"
      ]
     },
     "execution_count": 34,
     "metadata": {},
     "output_type": "execute_result"
    }
   ],
   "source": [
    "Y_amazon[:5]"
   ]
  },
  {
   "cell_type": "code",
   "execution_count": 35,
   "id": "3104e6ba-2313-4dd0-90e7-5d34eb07d90d",
   "metadata": {},
   "outputs": [],
   "source": [
    "x_train_amazon, x_test_amazon, y_train_amazon, y_test_amazon = train_test_split(X_amazon, Y_amazon, test_size=0.25, random_state=100)"
   ]
  },
  {
   "cell_type": "code",
   "execution_count": 36,
   "id": "d29d92df-8014-467a-8f5b-6ef05320ff1d",
   "metadata": {},
   "outputs": [
    {
     "data": {
      "text/plain": [
       "array(['They work about 2 weeks then break.',\n",
       "       'I had absolutely no problem with this headset linking to my 8530 Blackberry Curve!',\n",
       "       'Motorola finally got the voice quality of a bluetooth headset right.',\n",
       "       'This battery is an excellent bargain!',\n",
       "       'much better than the hard plastic cases.', 'Good case!.',\n",
       "       'Not good enough for the price.',\n",
       "       'A must study for anyone interested in the \"worst sins\" of industrial design.',\n",
       "       'i would advise to not purchase this item it never worked very well.',\n",
       "       'The camera, although rated at an impressive 1.3 megapixels, renders images that fall well below expectations of such a relatively high resolution.'],\n",
       "      dtype=object)"
      ]
     },
     "execution_count": 36,
     "metadata": {},
     "output_type": "execute_result"
    }
   ],
   "source": [
    "x_train_amazon[:10]"
   ]
  },
  {
   "cell_type": "markdown",
   "id": "b127743f-95b3-46da-80b4-05744e44a3de",
   "metadata": {},
   "source": [
    "### Shape the data in an acceptable shape by Regression Model"
   ]
  },
  {
   "cell_type": "code",
   "execution_count": 37,
   "id": "d3f17132-59fe-4fba-8332-ffde4df1f4e1",
   "metadata": {},
   "outputs": [
    {
     "data": {
      "text/plain": [
       "CountVectorizer()"
      ]
     },
     "execution_count": 37,
     "metadata": {},
     "output_type": "execute_result"
    }
   ],
   "source": [
    "vectorizer.fit(x_train_amazon)"
   ]
  },
  {
   "cell_type": "code",
   "execution_count": 38,
   "id": "865d13ba-7afb-43fb-b6ad-cf1fe43cba4f",
   "metadata": {},
   "outputs": [],
   "source": [
    "transformed_x_train_amazon = vectorizer.transform(x_train_amazon)"
   ]
  },
  {
   "cell_type": "code",
   "execution_count": 39,
   "id": "28a27358-130c-4f5f-8caa-ec4a867c5d31",
   "metadata": {},
   "outputs": [],
   "source": [
    "transformed_x_test_amazon = vectorizer.transform(x_test_amazon)"
   ]
  },
  {
   "cell_type": "code",
   "execution_count": 40,
   "id": "b99a2e89-54e4-4250-906d-17110f488281",
   "metadata": {},
   "outputs": [
    {
     "data": {
      "text/plain": [
       "<750x1551 sparse matrix of type '<class 'numpy.int64'>'\n",
       "\twith 6870 stored elements in Compressed Sparse Row format>"
      ]
     },
     "execution_count": 40,
     "metadata": {},
     "output_type": "execute_result"
    }
   ],
   "source": [
    "transformed_x_train_amazon"
   ]
  },
  {
   "cell_type": "code",
   "execution_count": 41,
   "id": "8c6a47dd-64ce-4f72-8068-fede229f139e",
   "metadata": {},
   "outputs": [
    {
     "data": {
      "text/plain": [
       "<250x1551 sparse matrix of type '<class 'numpy.int64'>'\n",
       "\twith 1945 stored elements in Compressed Sparse Row format>"
      ]
     },
     "execution_count": 41,
     "metadata": {},
     "output_type": "execute_result"
    }
   ],
   "source": [
    "transformed_x_test_amazon"
   ]
  },
  {
   "cell_type": "markdown",
   "id": "40cd6589-60b1-4e16-9a53-1cc9c5bc2cca",
   "metadata": {},
   "source": [
    "### Train/classify the data using Logistic Regression"
   ]
  },
  {
   "cell_type": "code",
   "execution_count": 42,
   "id": "40bf3a02-a246-4488-8a69-15661318be71",
   "metadata": {},
   "outputs": [
    {
     "data": {
      "text/plain": [
       "LogisticRegression()"
      ]
     },
     "execution_count": 42,
     "metadata": {},
     "output_type": "execute_result"
    }
   ],
   "source": [
    "classifier.fit(transformed_x_train_amazon, y_train_amazon)"
   ]
  },
  {
   "cell_type": "code",
   "execution_count": 43,
   "id": "e17aec26-d3cd-48be-91f5-644563183ad2",
   "metadata": {},
   "outputs": [],
   "source": [
    "score_amazon = classifier.score(transformed_x_test_amazon, y_test_amazon)"
   ]
  },
  {
   "cell_type": "code",
   "execution_count": 44,
   "id": "6eb7bc2e-31dd-499f-9c48-102253896f52",
   "metadata": {},
   "outputs": [
    {
     "data": {
      "text/plain": [
       "0.82"
      ]
     },
     "execution_count": 44,
     "metadata": {},
     "output_type": "execute_result"
    }
   ],
   "source": [
    "score_amazon"
   ]
  },
  {
   "cell_type": "markdown",
   "id": "c5d50a70-0276-4f53-bce2-85018ed3a2bc",
   "metadata": {},
   "source": [
    "## imdb Data"
   ]
  },
  {
   "cell_type": "code",
   "execution_count": 45,
   "id": "995f5804-7440-45b0-81cf-18f30504373c",
   "metadata": {},
   "outputs": [],
   "source": [
    "df_imdb = df[ df['source']=='imdb']"
   ]
  },
  {
   "cell_type": "code",
   "execution_count": 46,
   "id": "5bd4eb47-ae05-423f-a8c0-0691af0c8072",
   "metadata": {},
   "outputs": [
    {
     "data": {
      "text/html": [
       "<div>\n",
       "<style scoped>\n",
       "    .dataframe tbody tr th:only-of-type {\n",
       "        vertical-align: middle;\n",
       "    }\n",
       "\n",
       "    .dataframe tbody tr th {\n",
       "        vertical-align: top;\n",
       "    }\n",
       "\n",
       "    .dataframe thead th {\n",
       "        text-align: right;\n",
       "    }\n",
       "</style>\n",
       "<table border=\"1\" class=\"dataframe\">\n",
       "  <thead>\n",
       "    <tr style=\"text-align: right;\">\n",
       "      <th></th>\n",
       "      <th>sentence</th>\n",
       "      <th>label</th>\n",
       "      <th>source</th>\n",
       "    </tr>\n",
       "  </thead>\n",
       "  <tbody>\n",
       "    <tr>\n",
       "      <th>0</th>\n",
       "      <td>A very, very, very slow-moving, aimless movie ...</td>\n",
       "      <td>0</td>\n",
       "      <td>imdb</td>\n",
       "    </tr>\n",
       "    <tr>\n",
       "      <th>1</th>\n",
       "      <td>Not sure who was more lost - the flat characte...</td>\n",
       "      <td>0</td>\n",
       "      <td>imdb</td>\n",
       "    </tr>\n",
       "    <tr>\n",
       "      <th>2</th>\n",
       "      <td>Attempting artiness with black &amp; white and cle...</td>\n",
       "      <td>0</td>\n",
       "      <td>imdb</td>\n",
       "    </tr>\n",
       "    <tr>\n",
       "      <th>3</th>\n",
       "      <td>Very little music or anything to speak of.</td>\n",
       "      <td>0</td>\n",
       "      <td>imdb</td>\n",
       "    </tr>\n",
       "    <tr>\n",
       "      <th>4</th>\n",
       "      <td>The best scene in the movie was when Gerardo i...</td>\n",
       "      <td>1</td>\n",
       "      <td>imdb</td>\n",
       "    </tr>\n",
       "    <tr>\n",
       "      <th>...</th>\n",
       "      <td>...</td>\n",
       "      <td>...</td>\n",
       "      <td>...</td>\n",
       "    </tr>\n",
       "    <tr>\n",
       "      <th>743</th>\n",
       "      <td>I just got bored watching Jessice Lange take h...</td>\n",
       "      <td>0</td>\n",
       "      <td>imdb</td>\n",
       "    </tr>\n",
       "    <tr>\n",
       "      <th>744</th>\n",
       "      <td>Unfortunately, any virtue in this film's produ...</td>\n",
       "      <td>0</td>\n",
       "      <td>imdb</td>\n",
       "    </tr>\n",
       "    <tr>\n",
       "      <th>745</th>\n",
       "      <td>In a word, it is embarrassing.</td>\n",
       "      <td>0</td>\n",
       "      <td>imdb</td>\n",
       "    </tr>\n",
       "    <tr>\n",
       "      <th>746</th>\n",
       "      <td>Exceptionally bad!</td>\n",
       "      <td>0</td>\n",
       "      <td>imdb</td>\n",
       "    </tr>\n",
       "    <tr>\n",
       "      <th>747</th>\n",
       "      <td>All in all its an insult to one's intelligence...</td>\n",
       "      <td>0</td>\n",
       "      <td>imdb</td>\n",
       "    </tr>\n",
       "  </tbody>\n",
       "</table>\n",
       "<p>748 rows × 3 columns</p>\n",
       "</div>"
      ],
      "text/plain": [
       "                                              sentence  label source\n",
       "0    A very, very, very slow-moving, aimless movie ...      0   imdb\n",
       "1    Not sure who was more lost - the flat characte...      0   imdb\n",
       "2    Attempting artiness with black & white and cle...      0   imdb\n",
       "3         Very little music or anything to speak of.        0   imdb\n",
       "4    The best scene in the movie was when Gerardo i...      1   imdb\n",
       "..                                                 ...    ...    ...\n",
       "743  I just got bored watching Jessice Lange take h...      0   imdb\n",
       "744  Unfortunately, any virtue in this film's produ...      0   imdb\n",
       "745                   In a word, it is embarrassing.        0   imdb\n",
       "746                               Exceptionally bad!        0   imdb\n",
       "747  All in all its an insult to one's intelligence...      0   imdb\n",
       "\n",
       "[748 rows x 3 columns]"
      ]
     },
     "execution_count": 46,
     "metadata": {},
     "output_type": "execute_result"
    }
   ],
   "source": [
    "df_imdb"
   ]
  },
  {
   "cell_type": "code",
   "execution_count": 47,
   "id": "851bab61-ac81-462f-bdfa-943d58ddac7a",
   "metadata": {},
   "outputs": [
    {
     "data": {
      "text/html": [
       "<div>\n",
       "<style scoped>\n",
       "    .dataframe tbody tr th:only-of-type {\n",
       "        vertical-align: middle;\n",
       "    }\n",
       "\n",
       "    .dataframe tbody tr th {\n",
       "        vertical-align: top;\n",
       "    }\n",
       "\n",
       "    .dataframe thead th {\n",
       "        text-align: right;\n",
       "    }\n",
       "</style>\n",
       "<table border=\"1\" class=\"dataframe\">\n",
       "  <thead>\n",
       "    <tr style=\"text-align: right;\">\n",
       "      <th></th>\n",
       "      <th>sentence</th>\n",
       "      <th>label</th>\n",
       "      <th>source</th>\n",
       "    </tr>\n",
       "  </thead>\n",
       "  <tbody>\n",
       "    <tr>\n",
       "      <th>0</th>\n",
       "      <td>A very, very, very slow-moving, aimless movie ...</td>\n",
       "      <td>0</td>\n",
       "      <td>imdb</td>\n",
       "    </tr>\n",
       "    <tr>\n",
       "      <th>1</th>\n",
       "      <td>Not sure who was more lost - the flat characte...</td>\n",
       "      <td>0</td>\n",
       "      <td>imdb</td>\n",
       "    </tr>\n",
       "    <tr>\n",
       "      <th>2</th>\n",
       "      <td>Attempting artiness with black &amp; white and cle...</td>\n",
       "      <td>0</td>\n",
       "      <td>imdb</td>\n",
       "    </tr>\n",
       "    <tr>\n",
       "      <th>3</th>\n",
       "      <td>Very little music or anything to speak of.</td>\n",
       "      <td>0</td>\n",
       "      <td>imdb</td>\n",
       "    </tr>\n",
       "    <tr>\n",
       "      <th>4</th>\n",
       "      <td>The best scene in the movie was when Gerardo i...</td>\n",
       "      <td>1</td>\n",
       "      <td>imdb</td>\n",
       "    </tr>\n",
       "  </tbody>\n",
       "</table>\n",
       "</div>"
      ],
      "text/plain": [
       "                                            sentence  label source\n",
       "0  A very, very, very slow-moving, aimless movie ...      0   imdb\n",
       "1  Not sure who was more lost - the flat characte...      0   imdb\n",
       "2  Attempting artiness with black & white and cle...      0   imdb\n",
       "3       Very little music or anything to speak of.        0   imdb\n",
       "4  The best scene in the movie was when Gerardo i...      1   imdb"
      ]
     },
     "execution_count": 47,
     "metadata": {},
     "output_type": "execute_result"
    }
   ],
   "source": [
    "df_imdb.head(5)"
   ]
  },
  {
   "cell_type": "code",
   "execution_count": 48,
   "id": "79aec74a-78fd-4ab2-b3d6-99d882084249",
   "metadata": {},
   "outputs": [],
   "source": [
    "X_imdb = df_imdb['sentence'].values"
   ]
  },
  {
   "cell_type": "code",
   "execution_count": 49,
   "id": "9645087a-2bb8-40f4-9306-55f981125ea5",
   "metadata": {},
   "outputs": [],
   "source": [
    "Y_imdb = df_imdb['label'].values"
   ]
  },
  {
   "cell_type": "code",
   "execution_count": 50,
   "id": "ed7e49f3-a560-418b-87f7-1e441fbc9ad2",
   "metadata": {},
   "outputs": [
    {
     "data": {
      "text/plain": [
       "array(['A very, very, very slow-moving, aimless movie about a distressed, drifting young man.  ',\n",
       "       'Not sure who was more lost - the flat characters or the audience, nearly half of whom walked out.  ',\n",
       "       'Attempting artiness with black & white and clever camera angles, the movie disappointed - became even more ridiculous - as the acting was poor and the plot and lines almost non-existent.  ',\n",
       "       'Very little music or anything to speak of.  ',\n",
       "       'The best scene in the movie was when Gerardo is trying to find a song that keeps running through his head.  '],\n",
       "      dtype=object)"
      ]
     },
     "execution_count": 50,
     "metadata": {},
     "output_type": "execute_result"
    }
   ],
   "source": [
    "X_imdb[:5]"
   ]
  },
  {
   "cell_type": "code",
   "execution_count": 51,
   "id": "3f47d042-31c7-4b65-8bb0-8b85979c993e",
   "metadata": {},
   "outputs": [
    {
     "data": {
      "text/plain": [
       "array([0, 0, 0, 0, 1])"
      ]
     },
     "execution_count": 51,
     "metadata": {},
     "output_type": "execute_result"
    }
   ],
   "source": [
    "Y_imdb[:5]"
   ]
  },
  {
   "cell_type": "code",
   "execution_count": 52,
   "id": "875f7218-3df7-40b7-bdc4-318798af0ce0",
   "metadata": {},
   "outputs": [],
   "source": [
    "x_train_imdb, x_test_imdb, y_train_imdb, y_test_imdb = train_test_split(X_imdb, Y_imdb, test_size=0.25, random_state=100)"
   ]
  },
  {
   "cell_type": "code",
   "execution_count": 53,
   "id": "ce0374b1-c549-47ae-a1c1-79375153a131",
   "metadata": {},
   "outputs": [
    {
     "data": {
      "text/plain": [
       "array(['The results, well, are a shame.  ',\n",
       "       'Not much dialogue, not much music, the whole film was shot as elaborately and aesthetically like a sculpture.  ',\n",
       "       'She carries the movie well.  ',\n",
       "       'Now we were chosen to be tortured with this disgusting piece of blatant American propaganda.  ',\n",
       "       'THERE IS NO PLOT OR STORYLINE!!  ',\n",
       "       'There is, however, some pretty good acting (at least, for this type of film).  ',\n",
       "       \"The movie is not completely perfect but 'Titta Di Girolamo' will stay with you for a long time after the vision of the movie.  \",\n",
       "       'It just blew.  ', 'The movie seemed a little slow at first.  ',\n",
       "       \"It's a feel-good film and that's how I felt when I came out of the cinema!  \"],\n",
       "      dtype=object)"
      ]
     },
     "execution_count": 53,
     "metadata": {},
     "output_type": "execute_result"
    }
   ],
   "source": [
    "x_train_imdb[:10]"
   ]
  },
  {
   "cell_type": "markdown",
   "id": "c92296cb-4eb2-4c1b-921b-6cc6937ff762",
   "metadata": {},
   "source": [
    "### Shape the data in an acceptable shape by Regression Model"
   ]
  },
  {
   "cell_type": "code",
   "execution_count": 54,
   "id": "500b8016-edc3-4f3c-869a-e3328100f0ec",
   "metadata": {},
   "outputs": [
    {
     "data": {
      "text/plain": [
       "CountVectorizer()"
      ]
     },
     "execution_count": 54,
     "metadata": {},
     "output_type": "execute_result"
    }
   ],
   "source": [
    "vectorizer.fit(x_train_imdb)"
   ]
  },
  {
   "cell_type": "code",
   "execution_count": 55,
   "id": "1a258218-6c54-466e-a27f-97e7079ca237",
   "metadata": {},
   "outputs": [],
   "source": [
    "transformed_x_train_imdb = vectorizer.transform(x_train_imdb)"
   ]
  },
  {
   "cell_type": "code",
   "execution_count": 56,
   "id": "f4de38dd-afa6-4da5-8685-33414367ad77",
   "metadata": {},
   "outputs": [],
   "source": [
    "transformed_x_test_imdb = vectorizer.transform(x_test_imdb)"
   ]
  },
  {
   "cell_type": "code",
   "execution_count": 57,
   "id": "bf1d0b09-e088-4d64-823c-518865b9fda6",
   "metadata": {},
   "outputs": [
    {
     "data": {
      "text/plain": [
       "<561x2517 sparse matrix of type '<class 'numpy.int64'>'\n",
       "\twith 8495 stored elements in Compressed Sparse Row format>"
      ]
     },
     "execution_count": 57,
     "metadata": {},
     "output_type": "execute_result"
    }
   ],
   "source": [
    "transformed_x_train_imdb"
   ]
  },
  {
   "cell_type": "code",
   "execution_count": 58,
   "id": "429b40cf-6c37-4d61-8ec3-e1a2dd1ef973",
   "metadata": {},
   "outputs": [
    {
     "data": {
      "text/plain": [
       "<187x2517 sparse matrix of type '<class 'numpy.int64'>'\n",
       "\twith 2310 stored elements in Compressed Sparse Row format>"
      ]
     },
     "execution_count": 58,
     "metadata": {},
     "output_type": "execute_result"
    }
   ],
   "source": [
    "transformed_x_test_imdb"
   ]
  },
  {
   "cell_type": "markdown",
   "id": "a9c9bb86-b08a-4078-b92d-803ee15e8e85",
   "metadata": {
    "tags": []
   },
   "source": [
    "### Train/classify the data using Logistic Regression"
   ]
  },
  {
   "cell_type": "code",
   "execution_count": 59,
   "id": "cbe66d66-1baf-4951-b157-154b5f47eaed",
   "metadata": {},
   "outputs": [
    {
     "data": {
      "text/plain": [
       "LogisticRegression()"
      ]
     },
     "execution_count": 59,
     "metadata": {},
     "output_type": "execute_result"
    }
   ],
   "source": [
    "classifier.fit(transformed_x_train_imdb, y_train_imdb)"
   ]
  },
  {
   "cell_type": "code",
   "execution_count": 60,
   "id": "7dd4a884-d82f-4977-8784-f8d12e17709d",
   "metadata": {},
   "outputs": [],
   "source": [
    "score_imdb = classifier.score(transformed_x_test_imdb, y_test_imdb)"
   ]
  },
  {
   "cell_type": "code",
   "execution_count": 61,
   "id": "4a06f8c6-fc66-4cec-af5b-bb98cb3c5f7b",
   "metadata": {},
   "outputs": [
    {
     "data": {
      "text/plain": [
       "0.7379679144385026"
      ]
     },
     "execution_count": 61,
     "metadata": {},
     "output_type": "execute_result"
    }
   ],
   "source": [
    "score_imdb"
   ]
  }
 ],
 "metadata": {
  "kernelspec": {
   "display_name": "Python 3 (ipykernel)",
   "language": "python",
   "name": "python3"
  },
  "language_info": {
   "codemirror_mode": {
    "name": "ipython",
    "version": 3
   },
   "file_extension": ".py",
   "mimetype": "text/x-python",
   "name": "python",
   "nbconvert_exporter": "python",
   "pygments_lexer": "ipython3",
   "version": "3.9.5"
  }
 },
 "nbformat": 4,
 "nbformat_minor": 5
}
